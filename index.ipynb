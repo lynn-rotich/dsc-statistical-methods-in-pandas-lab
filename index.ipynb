{
  "cells": [
    {
      "cell_type": "markdown",
      "metadata": {
        "id": "_6_4rhA9Hpj_"
      },
      "source": [
        "# Statistical Methods in Pandas - Lab"
      ]
    },
    {
      "cell_type": "markdown",
      "metadata": {
        "id": "LWo8BvKeHpkB"
      },
      "source": [
        "## Introduction\n",
        "\n",
        "In this lab you'll get some hands-on experience using some of the key summary statistics methods in Pandas."
      ]
    },
    {
      "cell_type": "markdown",
      "metadata": {
        "id": "lUjWNJLsHpkB"
      },
      "source": [
        "## Objectives\n",
        "You will be able to:\n",
        "\n",
        "- Calculate summary statistics for a series and DataFrame\n",
        "- Use the `.apply()` or `.applymap()` methods to apply a function to a pandas series or DataFrame  \n",
        "\n",
        "\n",
        "## Getting Started\n",
        "\n",
        "For this lab, we'll be working with a dataset containing information on various lego datasets. You will find this dataset in the file `'lego_sets.csv'`.   \n",
        "\n",
        "In the cell below:\n",
        "\n",
        "- Import Pandas and set the standard alias of `pd`\n",
        "- Import the `'lego_sets.csv'` dataset\n",
        "- Display the first five rows of the DataFrame to get a feel for what we'll be working with"
      ]
    },
    {
      "cell_type": "code",
      "execution_count": 3,
      "metadata": {
        "colab": {
          "base_uri": "https://localhost:8080/",
          "height": 556
        },
        "id": "nQxlPOwtHpkC",
        "outputId": "50b0e354-83c7-4dc9-92a1-09998e67d1ce"
      },
      "outputs": [
        {
          "output_type": "execute_result",
          "data": {
            "text/plain": [
              "   ages  list_price  num_reviews  piece_count  play_star_rating  \\\n",
              "0  6-12       29.99          2.0        277.0               4.0   \n",
              "1  6-12       19.99          2.0        168.0               4.0   \n",
              "2  6-12       12.99         11.0         74.0               4.3   \n",
              "3   12+       99.99         23.0       1032.0               3.6   \n",
              "4   12+       79.99         14.0        744.0               3.2   \n",
              "\n",
              "                                           prod_desc  prod_id  \\\n",
              "0  Catapult into action and take back the eggs fr...  75823.0   \n",
              "1  Launch a flying attack and rescue the eggs fro...  75822.0   \n",
              "2  Chase the piggy with lightning-fast Chuck and ...  75821.0   \n",
              "3  Explore the architecture of the United States ...  21030.0   \n",
              "4  Recreate the Solomon R. Guggenheim Museum® wit...  21035.0   \n",
              "\n",
              "                                      prod_long_desc review_difficulty  \\\n",
              "0  Use the staircase catapult to launch Red into ...           Average   \n",
              "1  Pilot Pig has taken off from Bird Island with ...              Easy   \n",
              "2  Pitch speedy bird Chuck against the Piggy Car....              Easy   \n",
              "3  Discover the architectural secrets of the icon...           Average   \n",
              "4  Discover the architectural secrets of Frank Ll...       Challenging   \n",
              "\n",
              "                         set_name  star_rating    theme_name  val_star_rating  \\\n",
              "0           Bird Island Egg Heist          4.5  Angry Birds™              4.0   \n",
              "1              Piggy Plane Attack          5.0  Angry Birds™              4.0   \n",
              "2                Piggy Car Escape          4.3  Angry Birds™              4.1   \n",
              "3  United States Capitol Building          4.6  Architecture              4.3   \n",
              "4   Solomon R. Guggenheim Museum®          4.6  Architecture              4.1   \n",
              "\n",
              "  country  \n",
              "0      US  \n",
              "1      US  \n",
              "2      US  \n",
              "3      US  \n",
              "4      US  "
            ],
            "text/html": [
              "\n",
              "  <div id=\"df-f1ee66dd-8bd6-4ee6-87bd-b3c5693e8032\" class=\"colab-df-container\">\n",
              "    <div>\n",
              "<style scoped>\n",
              "    .dataframe tbody tr th:only-of-type {\n",
              "        vertical-align: middle;\n",
              "    }\n",
              "\n",
              "    .dataframe tbody tr th {\n",
              "        vertical-align: top;\n",
              "    }\n",
              "\n",
              "    .dataframe thead th {\n",
              "        text-align: right;\n",
              "    }\n",
              "</style>\n",
              "<table border=\"1\" class=\"dataframe\">\n",
              "  <thead>\n",
              "    <tr style=\"text-align: right;\">\n",
              "      <th></th>\n",
              "      <th>ages</th>\n",
              "      <th>list_price</th>\n",
              "      <th>num_reviews</th>\n",
              "      <th>piece_count</th>\n",
              "      <th>play_star_rating</th>\n",
              "      <th>prod_desc</th>\n",
              "      <th>prod_id</th>\n",
              "      <th>prod_long_desc</th>\n",
              "      <th>review_difficulty</th>\n",
              "      <th>set_name</th>\n",
              "      <th>star_rating</th>\n",
              "      <th>theme_name</th>\n",
              "      <th>val_star_rating</th>\n",
              "      <th>country</th>\n",
              "    </tr>\n",
              "  </thead>\n",
              "  <tbody>\n",
              "    <tr>\n",
              "      <th>0</th>\n",
              "      <td>6-12</td>\n",
              "      <td>29.99</td>\n",
              "      <td>2.0</td>\n",
              "      <td>277.0</td>\n",
              "      <td>4.0</td>\n",
              "      <td>Catapult into action and take back the eggs fr...</td>\n",
              "      <td>75823.0</td>\n",
              "      <td>Use the staircase catapult to launch Red into ...</td>\n",
              "      <td>Average</td>\n",
              "      <td>Bird Island Egg Heist</td>\n",
              "      <td>4.5</td>\n",
              "      <td>Angry Birds™</td>\n",
              "      <td>4.0</td>\n",
              "      <td>US</td>\n",
              "    </tr>\n",
              "    <tr>\n",
              "      <th>1</th>\n",
              "      <td>6-12</td>\n",
              "      <td>19.99</td>\n",
              "      <td>2.0</td>\n",
              "      <td>168.0</td>\n",
              "      <td>4.0</td>\n",
              "      <td>Launch a flying attack and rescue the eggs fro...</td>\n",
              "      <td>75822.0</td>\n",
              "      <td>Pilot Pig has taken off from Bird Island with ...</td>\n",
              "      <td>Easy</td>\n",
              "      <td>Piggy Plane Attack</td>\n",
              "      <td>5.0</td>\n",
              "      <td>Angry Birds™</td>\n",
              "      <td>4.0</td>\n",
              "      <td>US</td>\n",
              "    </tr>\n",
              "    <tr>\n",
              "      <th>2</th>\n",
              "      <td>6-12</td>\n",
              "      <td>12.99</td>\n",
              "      <td>11.0</td>\n",
              "      <td>74.0</td>\n",
              "      <td>4.3</td>\n",
              "      <td>Chase the piggy with lightning-fast Chuck and ...</td>\n",
              "      <td>75821.0</td>\n",
              "      <td>Pitch speedy bird Chuck against the Piggy Car....</td>\n",
              "      <td>Easy</td>\n",
              "      <td>Piggy Car Escape</td>\n",
              "      <td>4.3</td>\n",
              "      <td>Angry Birds™</td>\n",
              "      <td>4.1</td>\n",
              "      <td>US</td>\n",
              "    </tr>\n",
              "    <tr>\n",
              "      <th>3</th>\n",
              "      <td>12+</td>\n",
              "      <td>99.99</td>\n",
              "      <td>23.0</td>\n",
              "      <td>1032.0</td>\n",
              "      <td>3.6</td>\n",
              "      <td>Explore the architecture of the United States ...</td>\n",
              "      <td>21030.0</td>\n",
              "      <td>Discover the architectural secrets of the icon...</td>\n",
              "      <td>Average</td>\n",
              "      <td>United States Capitol Building</td>\n",
              "      <td>4.6</td>\n",
              "      <td>Architecture</td>\n",
              "      <td>4.3</td>\n",
              "      <td>US</td>\n",
              "    </tr>\n",
              "    <tr>\n",
              "      <th>4</th>\n",
              "      <td>12+</td>\n",
              "      <td>79.99</td>\n",
              "      <td>14.0</td>\n",
              "      <td>744.0</td>\n",
              "      <td>3.2</td>\n",
              "      <td>Recreate the Solomon R. Guggenheim Museum® wit...</td>\n",
              "      <td>21035.0</td>\n",
              "      <td>Discover the architectural secrets of Frank Ll...</td>\n",
              "      <td>Challenging</td>\n",
              "      <td>Solomon R. Guggenheim Museum®</td>\n",
              "      <td>4.6</td>\n",
              "      <td>Architecture</td>\n",
              "      <td>4.1</td>\n",
              "      <td>US</td>\n",
              "    </tr>\n",
              "  </tbody>\n",
              "</table>\n",
              "</div>\n",
              "    <div class=\"colab-df-buttons\">\n",
              "\n",
              "  <div class=\"colab-df-container\">\n",
              "    <button class=\"colab-df-convert\" onclick=\"convertToInteractive('df-f1ee66dd-8bd6-4ee6-87bd-b3c5693e8032')\"\n",
              "            title=\"Convert this dataframe to an interactive table.\"\n",
              "            style=\"display:none;\">\n",
              "\n",
              "  <svg xmlns=\"http://www.w3.org/2000/svg\" height=\"24px\" viewBox=\"0 -960 960 960\">\n",
              "    <path d=\"M120-120v-720h720v720H120Zm60-500h600v-160H180v160Zm220 220h160v-160H400v160Zm0 220h160v-160H400v160ZM180-400h160v-160H180v160Zm440 0h160v-160H620v160ZM180-180h160v-160H180v160Zm440 0h160v-160H620v160Z\"/>\n",
              "  </svg>\n",
              "    </button>\n",
              "\n",
              "  <style>\n",
              "    .colab-df-container {\n",
              "      display:flex;\n",
              "      gap: 12px;\n",
              "    }\n",
              "\n",
              "    .colab-df-convert {\n",
              "      background-color: #E8F0FE;\n",
              "      border: none;\n",
              "      border-radius: 50%;\n",
              "      cursor: pointer;\n",
              "      display: none;\n",
              "      fill: #1967D2;\n",
              "      height: 32px;\n",
              "      padding: 0 0 0 0;\n",
              "      width: 32px;\n",
              "    }\n",
              "\n",
              "    .colab-df-convert:hover {\n",
              "      background-color: #E2EBFA;\n",
              "      box-shadow: 0px 1px 2px rgba(60, 64, 67, 0.3), 0px 1px 3px 1px rgba(60, 64, 67, 0.15);\n",
              "      fill: #174EA6;\n",
              "    }\n",
              "\n",
              "    .colab-df-buttons div {\n",
              "      margin-bottom: 4px;\n",
              "    }\n",
              "\n",
              "    [theme=dark] .colab-df-convert {\n",
              "      background-color: #3B4455;\n",
              "      fill: #D2E3FC;\n",
              "    }\n",
              "\n",
              "    [theme=dark] .colab-df-convert:hover {\n",
              "      background-color: #434B5C;\n",
              "      box-shadow: 0px 1px 3px 1px rgba(0, 0, 0, 0.15);\n",
              "      filter: drop-shadow(0px 1px 2px rgba(0, 0, 0, 0.3));\n",
              "      fill: #FFFFFF;\n",
              "    }\n",
              "  </style>\n",
              "\n",
              "    <script>\n",
              "      const buttonEl =\n",
              "        document.querySelector('#df-f1ee66dd-8bd6-4ee6-87bd-b3c5693e8032 button.colab-df-convert');\n",
              "      buttonEl.style.display =\n",
              "        google.colab.kernel.accessAllowed ? 'block' : 'none';\n",
              "\n",
              "      async function convertToInteractive(key) {\n",
              "        const element = document.querySelector('#df-f1ee66dd-8bd6-4ee6-87bd-b3c5693e8032');\n",
              "        const dataTable =\n",
              "          await google.colab.kernel.invokeFunction('convertToInteractive',\n",
              "                                                    [key], {});\n",
              "        if (!dataTable) return;\n",
              "\n",
              "        const docLinkHtml = 'Like what you see? Visit the ' +\n",
              "          '<a target=\"_blank\" href=https://colab.research.google.com/notebooks/data_table.ipynb>data table notebook</a>'\n",
              "          + ' to learn more about interactive tables.';\n",
              "        element.innerHTML = '';\n",
              "        dataTable['output_type'] = 'display_data';\n",
              "        await google.colab.output.renderOutput(dataTable, element);\n",
              "        const docLink = document.createElement('div');\n",
              "        docLink.innerHTML = docLinkHtml;\n",
              "        element.appendChild(docLink);\n",
              "      }\n",
              "    </script>\n",
              "  </div>\n",
              "\n",
              "\n",
              "    <div id=\"df-4495c714-eecc-4a11-b86d-e5161e82c0c2\">\n",
              "      <button class=\"colab-df-quickchart\" onclick=\"quickchart('df-4495c714-eecc-4a11-b86d-e5161e82c0c2')\"\n",
              "                title=\"Suggest charts\"\n",
              "                style=\"display:none;\">\n",
              "\n",
              "<svg xmlns=\"http://www.w3.org/2000/svg\" height=\"24px\"viewBox=\"0 0 24 24\"\n",
              "     width=\"24px\">\n",
              "    <g>\n",
              "        <path d=\"M19 3H5c-1.1 0-2 .9-2 2v14c0 1.1.9 2 2 2h14c1.1 0 2-.9 2-2V5c0-1.1-.9-2-2-2zM9 17H7v-7h2v7zm4 0h-2V7h2v10zm4 0h-2v-4h2v4z\"/>\n",
              "    </g>\n",
              "</svg>\n",
              "      </button>\n",
              "\n",
              "<style>\n",
              "  .colab-df-quickchart {\n",
              "      --bg-color: #E8F0FE;\n",
              "      --fill-color: #1967D2;\n",
              "      --hover-bg-color: #E2EBFA;\n",
              "      --hover-fill-color: #174EA6;\n",
              "      --disabled-fill-color: #AAA;\n",
              "      --disabled-bg-color: #DDD;\n",
              "  }\n",
              "\n",
              "  [theme=dark] .colab-df-quickchart {\n",
              "      --bg-color: #3B4455;\n",
              "      --fill-color: #D2E3FC;\n",
              "      --hover-bg-color: #434B5C;\n",
              "      --hover-fill-color: #FFFFFF;\n",
              "      --disabled-bg-color: #3B4455;\n",
              "      --disabled-fill-color: #666;\n",
              "  }\n",
              "\n",
              "  .colab-df-quickchart {\n",
              "    background-color: var(--bg-color);\n",
              "    border: none;\n",
              "    border-radius: 50%;\n",
              "    cursor: pointer;\n",
              "    display: none;\n",
              "    fill: var(--fill-color);\n",
              "    height: 32px;\n",
              "    padding: 0;\n",
              "    width: 32px;\n",
              "  }\n",
              "\n",
              "  .colab-df-quickchart:hover {\n",
              "    background-color: var(--hover-bg-color);\n",
              "    box-shadow: 0 1px 2px rgba(60, 64, 67, 0.3), 0 1px 3px 1px rgba(60, 64, 67, 0.15);\n",
              "    fill: var(--button-hover-fill-color);\n",
              "  }\n",
              "\n",
              "  .colab-df-quickchart-complete:disabled,\n",
              "  .colab-df-quickchart-complete:disabled:hover {\n",
              "    background-color: var(--disabled-bg-color);\n",
              "    fill: var(--disabled-fill-color);\n",
              "    box-shadow: none;\n",
              "  }\n",
              "\n",
              "  .colab-df-spinner {\n",
              "    border: 2px solid var(--fill-color);\n",
              "    border-color: transparent;\n",
              "    border-bottom-color: var(--fill-color);\n",
              "    animation:\n",
              "      spin 1s steps(1) infinite;\n",
              "  }\n",
              "\n",
              "  @keyframes spin {\n",
              "    0% {\n",
              "      border-color: transparent;\n",
              "      border-bottom-color: var(--fill-color);\n",
              "      border-left-color: var(--fill-color);\n",
              "    }\n",
              "    20% {\n",
              "      border-color: transparent;\n",
              "      border-left-color: var(--fill-color);\n",
              "      border-top-color: var(--fill-color);\n",
              "    }\n",
              "    30% {\n",
              "      border-color: transparent;\n",
              "      border-left-color: var(--fill-color);\n",
              "      border-top-color: var(--fill-color);\n",
              "      border-right-color: var(--fill-color);\n",
              "    }\n",
              "    40% {\n",
              "      border-color: transparent;\n",
              "      border-right-color: var(--fill-color);\n",
              "      border-top-color: var(--fill-color);\n",
              "    }\n",
              "    60% {\n",
              "      border-color: transparent;\n",
              "      border-right-color: var(--fill-color);\n",
              "    }\n",
              "    80% {\n",
              "      border-color: transparent;\n",
              "      border-right-color: var(--fill-color);\n",
              "      border-bottom-color: var(--fill-color);\n",
              "    }\n",
              "    90% {\n",
              "      border-color: transparent;\n",
              "      border-bottom-color: var(--fill-color);\n",
              "    }\n",
              "  }\n",
              "</style>\n",
              "\n",
              "      <script>\n",
              "        async function quickchart(key) {\n",
              "          const quickchartButtonEl =\n",
              "            document.querySelector('#' + key + ' button');\n",
              "          quickchartButtonEl.disabled = true;  // To prevent multiple clicks.\n",
              "          quickchartButtonEl.classList.add('colab-df-spinner');\n",
              "          try {\n",
              "            const charts = await google.colab.kernel.invokeFunction(\n",
              "                'suggestCharts', [key], {});\n",
              "          } catch (error) {\n",
              "            console.error('Error during call to suggestCharts:', error);\n",
              "          }\n",
              "          quickchartButtonEl.classList.remove('colab-df-spinner');\n",
              "          quickchartButtonEl.classList.add('colab-df-quickchart-complete');\n",
              "        }\n",
              "        (() => {\n",
              "          let quickchartButtonEl =\n",
              "            document.querySelector('#df-4495c714-eecc-4a11-b86d-e5161e82c0c2 button');\n",
              "          quickchartButtonEl.style.display =\n",
              "            google.colab.kernel.accessAllowed ? 'block' : 'none';\n",
              "        })();\n",
              "      </script>\n",
              "    </div>\n",
              "\n",
              "    </div>\n",
              "  </div>\n"
            ],
            "application/vnd.google.colaboratory.intrinsic+json": {
              "type": "dataframe",
              "variable_name": "df",
              "summary": "{\n  \"name\": \"df\",\n  \"rows\": 8975,\n  \"fields\": [\n    {\n      \"column\": \"ages\",\n      \"properties\": {\n        \"dtype\": \"category\",\n        \"num_unique_values\": 31,\n        \"samples\": [\n          \"11-16\",\n          \"6+\",\n          \"6-14\"\n        ],\n        \"semantic_type\": \"\",\n        \"description\": \"\"\n      }\n    },\n    {\n      \"column\": \"list_price\",\n      \"properties\": {\n        \"dtype\": \"number\",\n        \"std\": 89.28669540346516,\n        \"min\": 2.2724,\n        \"max\": 1097.939,\n        \"num_unique_values\": 548,\n        \"samples\": [\n          101.898,\n          91.1924,\n          151.98\n        ],\n        \"semantic_type\": \"\",\n        \"description\": \"\"\n      }\n    },\n    {\n      \"column\": \"num_reviews\",\n      \"properties\": {\n        \"dtype\": \"number\",\n        \"std\": 35.95614967081543,\n        \"min\": 1.0,\n        \"max\": 367.0,\n        \"num_unique_values\": 86,\n        \"samples\": [\n          70.0,\n          2.0,\n          86.0\n        ],\n        \"semantic_type\": \"\",\n        \"description\": \"\"\n      }\n    },\n    {\n      \"column\": \"piece_count\",\n      \"properties\": {\n        \"dtype\": \"number\",\n        \"std\": 817.5716441857519,\n        \"min\": 1.0,\n        \"max\": 7541.0,\n        \"num_unique_values\": 447,\n        \"samples\": [\n          63.0,\n          775.0,\n          728.0\n        ],\n        \"semantic_type\": \"\",\n        \"description\": \"\"\n      }\n    },\n    {\n      \"column\": \"play_star_rating\",\n      \"properties\": {\n        \"dtype\": \"number\",\n        \"std\": 0.6536635171415952,\n        \"min\": 1.0,\n        \"max\": 5.0,\n        \"num_unique_values\": 30,\n        \"samples\": [\n          2.8,\n          4.5,\n          4.9\n        ],\n        \"semantic_type\": \"\",\n        \"description\": \"\"\n      }\n    },\n    {\n      \"column\": \"prod_desc\",\n      \"properties\": {\n        \"dtype\": \"category\",\n        \"num_unique_values\": 731,\n        \"samples\": [\n          \"Create your ideas with LEGO\\u00ae Classic bricks!\",\n          \"Hop to it with a LEGO\\u00ae BrickHeadz\\u2122 Easter Bunny!\",\n          \"Learn to look after the little farm animals!\"\n        ],\n        \"semantic_type\": \"\",\n        \"description\": \"\"\n      }\n    },\n    {\n      \"column\": \"prod_id\",\n      \"properties\": {\n        \"dtype\": \"number\",\n        \"std\": 162103.28432330073,\n        \"min\": 630.0,\n        \"max\": 2000431.0,\n        \"num_unique_values\": 744,\n        \"samples\": [\n          75183.0,\n          70629.0,\n          42037.0\n        ],\n        \"semantic_type\": \"\",\n        \"description\": \"\"\n      }\n    },\n    {\n      \"column\": \"prod_long_desc\",\n      \"properties\": {\n        \"dtype\": \"category\",\n        \"num_unique_values\": 987,\n        \"samples\": [\n          \"This set offers so many ways to play and learn for little adventurers\\u2014whether it\\u2019s looking for treasure in the ruins, making their own animal stories, taking pictures with the camera, flying in the plane with turning propeller or just good old building fun! Includes 2 LEGO\\u00ae DUPLO\\u00ae figures: a dad and child, plus an elephant and calf, tiger, monkey and a crocodile.\\nIncludes 2 LEGO DUPLO figures: a dad and child, plus an elephant and calf, tiger, monkey and a crocodile.\\nFeatures buildable ruins with opening compartment, buildable jungle trees with a hanging bridge, and a little plane with turning propeller.\\nAccessory elements include a boat, fish, flowers and a fire for cooking.\\nIncludes bricks decorated as a butterfly, frog and treasure as story starters.\\nCreate endless treasure-hunting adventures in the Jungle ruins.\\nJump in the plane with the LEGO DUPLO figures to explore the jungle and its wildlife.\\nLEGO DUPLO Around the World sets encourage early role play with lots of animal fun.\\nUse LEGO DUPLO Around the World sets to talk to your child about wild animals, their habitats, conservation, different parts of the world and the people and animals who live there\\u2014there\\u2019s so much to learn!\\nLEGO DUPLO products are safe and specially designed to be fun and easy for little hands.\\nPlane measures over 3\\u201d (10cm) high, 5\\u201d (14cm) long and 5\\u201d (15cm) wide.\\nAncient ruins with monkey measure over 9\\u201d (25cm) high, 7\\u201d (19cm) wide and 3\\u201d (10cm) deep.\\nCombine with 10801 Baby Animals, 10802 Savanna, 10803 Arctic or 10805 Around the World for more animal fun.\",\n          \"Head out on summer adventures with the Sunshine Surfer Van set, featuring a camper with a bright yellow, white and blue color scheme, and a host of realistic details including a roof rack for storing the included surfboard, foldaway sun lounger and chair, parasol, table and barbecue. Remove the roof and side section for access to the detailed interior, complete with fold-down bed, TV and kitchenette. This 3-in-1 LEGO\\u00ae Creator construction toy rebuilds into a Lifeguard Tower or a Beach Buggy for even more seaside fun, and includes 2 minifigures, both ready for summer adventures.\\nIncludes 2 minifigures: a woman and a man, both ready for summer adventures.\\nFeatures a camper van with a fold-down bed, TV, sofa and kitchenette, plus tinted windows, large wing mirrors and a roof rack with detachable accessories, including a brick-built parasol, barbecue, table and a foldaway sun lounger and chair, plus a surfboard.\\nCheck out the summery yellow, white and blue color scheme.\\nRemove the roof and side section for access to the detailed interior, where you can cook up a meal in the cozy kitchenette or watch some TV from the comfort of the fold-down bed.\\nLoad up the Sunshine Surfer Van, jump aboard and head out on a summer adventure!\\nFold out the sun lounger, table and chair, light up the barbecue and try a spot of surfing.\\nContinue the adventure with this 3-in-1 model. Rebuild the Sunshine Surfer Van to create a Lifeguard Tower and rush to the rescue on a cool quad bike, or create an awesome Beach Buggy for racing over the dunes.\\nThis construction toy is suitable for ages 7-12.\\nSunshine Surfer Van measures over 3\\u201d (10cm) high, 9\\u201d (24cm) long and 3\\u201d (8cm) wide.\\nLifeguard Tower measures over 5\\u201d (13cm) high, 5\\u201d (13cm) wide and 6\\u201d (17cm) deep.\\nBeach Buggy measures over 1\\u201d (5cm) high, 5\\u201d (14cm) long and 2\\u201d (6cm) wide.\",\n          \"Summon your courage for a beastly LEGO\\u00ae NEXO KNIGHTS\\u2122 encounter and drive the futuristic 3-in-1 Rock Climber with detachable crossbow and mini-flyer after Lord Krakenskull on the buildable Krakenbeast monster with posable limbs and tail weapon. Includes 3 scannable shields, 3 minifigures, buildable Krakenbeast, plus Bouldron and Brickster figures.\\nBuild Aaron\\u2019s 3-in-1 off-road buggy, crossbow machine & mini-flyer to protect the Forbidden Power from the evil Lord Krakenskull!\\nAs featured in Cartoon Network's LEGO\\u00ae NEXO KNIGHTS\\u2122 series\\nIncludes Aaron, Lord Krakenskull & Bouldron minifigures, plus Aaron Bot, Brickster & buildable Krakenbeast figures\\nLEGO NEXO KNIGHTS building toys are compatible with all LEGO construction sets for creative building\\nThe Rock Climber is over 4\\u201d high, 11\\u201d long and 6\\u201d wide. The Krakenskull beast is over 3\\u201d high, 7\\u201d long and 4\\u201d wide\\n598 pieces \\u2013 For boys and girls between the ages of 8 and 14 years old\"\n        ],\n        \"semantic_type\": \"\",\n        \"description\": \"\"\n      }\n    },\n    {\n      \"column\": \"review_difficulty\",\n      \"properties\": {\n        \"dtype\": \"category\",\n        \"num_unique_values\": 5,\n        \"samples\": [\n          \"Easy\",\n          \"Very Challenging\",\n          \"Challenging\"\n        ],\n        \"semantic_type\": \"\",\n        \"description\": \"\"\n      }\n    },\n    {\n      \"column\": \"set_name\",\n      \"properties\": {\n        \"dtype\": \"category\",\n        \"num_unique_values\": 741,\n        \"samples\": [\n          \"ATV Arrest\",\n          \"Batgirl\\u2122 Batjet Chase\",\n          \"The Capture of Sophie Jones\"\n        ],\n        \"semantic_type\": \"\",\n        \"description\": \"\"\n      }\n    },\n    {\n      \"column\": \"star_rating\",\n      \"properties\": {\n        \"dtype\": \"number\",\n        \"std\": 0.5181433193049458,\n        \"min\": 1.8,\n        \"max\": 5.0,\n        \"num_unique_values\": 27,\n        \"samples\": [\n          4.4,\n          3.3,\n          3.4\n        ],\n        \"semantic_type\": \"\",\n        \"description\": \"\"\n      }\n    },\n    {\n      \"column\": \"theme_name\",\n      \"properties\": {\n        \"dtype\": \"category\",\n        \"num_unique_values\": 40,\n        \"samples\": [\n          \"Indoraptor Rampage at Lockwood Estate\",\n          \"Friends\",\n          \"Elves\"\n        ],\n        \"semantic_type\": \"\",\n        \"description\": \"\"\n      }\n    },\n    {\n      \"column\": \"val_star_rating\",\n      \"properties\": {\n        \"dtype\": \"number\",\n        \"std\": 0.6604261882813082,\n        \"min\": 1.0,\n        \"max\": 5.0,\n        \"num_unique_values\": 33,\n        \"samples\": [\n          1.9,\n          3.3,\n          2.6\n        ],\n        \"semantic_type\": \"\",\n        \"description\": \"\"\n      }\n    },\n    {\n      \"column\": \"country\",\n      \"properties\": {\n        \"dtype\": \"category\",\n        \"num_unique_values\": 16,\n        \"samples\": [\n          \"US\",\n          \"AU\",\n          \"CH\"\n        ],\n        \"semantic_type\": \"\",\n        \"description\": \"\"\n      }\n    }\n  ]\n}"
            }
          },
          "metadata": {},
          "execution_count": 3
        }
      ],
      "source": [
        "# Import pandas\n",
        "import pandas as pd\n",
        "\n",
        "# Import the 'lego_sets.csv' dataset\n",
        "df = pd.read_csv('lego_sets.csv', engine='python', on_bad_lines='skip')\n",
        "\n",
        "# Print the first five rows of DataFrame\n",
        "df.head()"
      ]
    },
    {
      "cell_type": "markdown",
      "metadata": {
        "id": "pWppVzrYHpkD"
      },
      "source": [
        "## Getting DataFrame-Level Statistics\n",
        "\n",
        "We'll begin by getting some overall summary statistics on the dataset. There are two ways we'll get this information -- `.info()` and `.describe()`.\n",
        "\n",
        "The `.info()` method provides us metadata on the DataFrame itself. This allows us to answer questions such as:\n",
        "\n",
        "* What data type does each column contain?\n",
        "* How many rows are in my dataset?\n",
        "* How many total non-missing values does each column contain?\n",
        "* How much memory does the DataFrame take up?\n",
        "\n",
        "In the cell below, call our DataFrame's `.info()` method."
      ]
    },
    {
      "cell_type": "code",
      "execution_count": 4,
      "metadata": {
        "colab": {
          "base_uri": "https://localhost:8080/"
        },
        "id": "kMcXdWbCHpkD",
        "outputId": "c062508d-8b61-4b8d-cd39-a61409b8f96b"
      },
      "outputs": [
        {
          "output_type": "stream",
          "name": "stdout",
          "text": [
            "<class 'pandas.core.frame.DataFrame'>\n",
            "RangeIndex: 8975 entries, 0 to 8974\n",
            "Data columns (total 14 columns):\n",
            " #   Column             Non-Null Count  Dtype  \n",
            "---  ------             --------------  -----  \n",
            " 0   ages               8975 non-null   object \n",
            " 1   list_price         8975 non-null   float64\n",
            " 2   num_reviews        7804 non-null   float64\n",
            " 3   piece_count        8975 non-null   float64\n",
            " 4   play_star_rating   7691 non-null   float64\n",
            " 5   prod_desc          8704 non-null   object \n",
            " 6   prod_id            8975 non-null   float64\n",
            " 7   prod_long_desc     8975 non-null   object \n",
            " 8   review_difficulty  7488 non-null   object \n",
            " 9   set_name           8975 non-null   object \n",
            " 10  star_rating        7804 non-null   float64\n",
            " 11  theme_name         8972 non-null   object \n",
            " 12  val_star_rating    7677 non-null   float64\n",
            " 13  country            8975 non-null   object \n",
            "dtypes: float64(7), object(7)\n",
            "memory usage: 981.8+ KB\n"
          ]
        }
      ],
      "source": [
        "# Call the .info() method\n",
        "df.info()"
      ]
    },
    {
      "cell_type": "markdown",
      "metadata": {
        "id": "TeLMTIVeHpkD"
      },
      "source": [
        "#### Interpreting the Results\n",
        "\n",
        "Read the output above, and then answer the following questions:\n",
        "\n",
        "- How many total rows are in this DataFrame?  \n",
        "- How many columns contain numeric data?\n",
        "- How many contain categorical data?\n",
        "- Identify at least 3 columns that contain missing values.\n",
        "\n",
        "Write your answer below this line:\n",
        "________________________________________________________________________________________________________________________________"
      ]
    },
    {
      "cell_type": "markdown",
      "source": [
        "How many total rows are in this DataFrame? **8975**\n",
        "\n",
        "How many columns contain numeric data? **7**\n",
        "\n",
        "How many contain categorical data? **7**\n",
        "\n",
        "Identify at least 3 columns that contain missing values. num_reviews , player_star_rating and prod_desc"
      ],
      "metadata": {
        "id": "Hryv7WFUI-Zl"
      }
    },
    {
      "cell_type": "markdown",
      "metadata": {
        "id": "Z_EgPxC1HpkE"
      },
      "source": [
        "Whereas `.info()` provides statistics about the DataFrame itself, `.describe()` returns output containing basic summary statistics about the data contained with the DataFrame.  \n",
        "\n",
        "In the cell below, call the DataFrame's `.describe()` method."
      ]
    },
    {
      "cell_type": "code",
      "execution_count": 5,
      "metadata": {
        "colab": {
          "base_uri": "https://localhost:8080/",
          "height": 300
        },
        "id": "TcoSvxe_HpkE",
        "outputId": "c2104f55-01ea-4f85-8e79-a852929f9d4e"
      },
      "outputs": [
        {
          "output_type": "execute_result",
          "data": {
            "text/plain": [
              "        list_price  num_reviews  piece_count  play_star_rating       prod_id  \\\n",
              "count  8975.000000  7804.000000  8975.000000       7691.000000  8.975000e+03   \n",
              "mean     62.908689    16.624936   487.464067          4.333975  5.974649e+04   \n",
              "std      89.286695    35.956150   817.571644          0.653664  1.621033e+05   \n",
              "min       2.272400     1.000000     1.000000          1.000000  6.300000e+02   \n",
              "25%      19.492200     2.000000    95.000000          4.000000  2.103600e+04   \n",
              "50%      35.598000     6.000000   213.000000          4.500000  4.206900e+04   \n",
              "75%      68.307800    13.000000   521.000000          4.800000  7.092200e+04   \n",
              "max    1097.939000   367.000000  7541.000000          5.000000  2.000431e+06   \n",
              "\n",
              "       star_rating  val_star_rating  \n",
              "count  7804.000000      7677.000000  \n",
              "mean      4.513813         4.228748  \n",
              "std       0.518143         0.660426  \n",
              "min       1.800000         1.000000  \n",
              "25%       4.300000         4.000000  \n",
              "50%       4.700000         4.300000  \n",
              "75%       5.000000         4.700000  \n",
              "max       5.000000         5.000000  "
            ],
            "text/html": [
              "\n",
              "  <div id=\"df-632af970-d71a-4fb2-b040-91b413299327\" class=\"colab-df-container\">\n",
              "    <div>\n",
              "<style scoped>\n",
              "    .dataframe tbody tr th:only-of-type {\n",
              "        vertical-align: middle;\n",
              "    }\n",
              "\n",
              "    .dataframe tbody tr th {\n",
              "        vertical-align: top;\n",
              "    }\n",
              "\n",
              "    .dataframe thead th {\n",
              "        text-align: right;\n",
              "    }\n",
              "</style>\n",
              "<table border=\"1\" class=\"dataframe\">\n",
              "  <thead>\n",
              "    <tr style=\"text-align: right;\">\n",
              "      <th></th>\n",
              "      <th>list_price</th>\n",
              "      <th>num_reviews</th>\n",
              "      <th>piece_count</th>\n",
              "      <th>play_star_rating</th>\n",
              "      <th>prod_id</th>\n",
              "      <th>star_rating</th>\n",
              "      <th>val_star_rating</th>\n",
              "    </tr>\n",
              "  </thead>\n",
              "  <tbody>\n",
              "    <tr>\n",
              "      <th>count</th>\n",
              "      <td>8975.000000</td>\n",
              "      <td>7804.000000</td>\n",
              "      <td>8975.000000</td>\n",
              "      <td>7691.000000</td>\n",
              "      <td>8.975000e+03</td>\n",
              "      <td>7804.000000</td>\n",
              "      <td>7677.000000</td>\n",
              "    </tr>\n",
              "    <tr>\n",
              "      <th>mean</th>\n",
              "      <td>62.908689</td>\n",
              "      <td>16.624936</td>\n",
              "      <td>487.464067</td>\n",
              "      <td>4.333975</td>\n",
              "      <td>5.974649e+04</td>\n",
              "      <td>4.513813</td>\n",
              "      <td>4.228748</td>\n",
              "    </tr>\n",
              "    <tr>\n",
              "      <th>std</th>\n",
              "      <td>89.286695</td>\n",
              "      <td>35.956150</td>\n",
              "      <td>817.571644</td>\n",
              "      <td>0.653664</td>\n",
              "      <td>1.621033e+05</td>\n",
              "      <td>0.518143</td>\n",
              "      <td>0.660426</td>\n",
              "    </tr>\n",
              "    <tr>\n",
              "      <th>min</th>\n",
              "      <td>2.272400</td>\n",
              "      <td>1.000000</td>\n",
              "      <td>1.000000</td>\n",
              "      <td>1.000000</td>\n",
              "      <td>6.300000e+02</td>\n",
              "      <td>1.800000</td>\n",
              "      <td>1.000000</td>\n",
              "    </tr>\n",
              "    <tr>\n",
              "      <th>25%</th>\n",
              "      <td>19.492200</td>\n",
              "      <td>2.000000</td>\n",
              "      <td>95.000000</td>\n",
              "      <td>4.000000</td>\n",
              "      <td>2.103600e+04</td>\n",
              "      <td>4.300000</td>\n",
              "      <td>4.000000</td>\n",
              "    </tr>\n",
              "    <tr>\n",
              "      <th>50%</th>\n",
              "      <td>35.598000</td>\n",
              "      <td>6.000000</td>\n",
              "      <td>213.000000</td>\n",
              "      <td>4.500000</td>\n",
              "      <td>4.206900e+04</td>\n",
              "      <td>4.700000</td>\n",
              "      <td>4.300000</td>\n",
              "    </tr>\n",
              "    <tr>\n",
              "      <th>75%</th>\n",
              "      <td>68.307800</td>\n",
              "      <td>13.000000</td>\n",
              "      <td>521.000000</td>\n",
              "      <td>4.800000</td>\n",
              "      <td>7.092200e+04</td>\n",
              "      <td>5.000000</td>\n",
              "      <td>4.700000</td>\n",
              "    </tr>\n",
              "    <tr>\n",
              "      <th>max</th>\n",
              "      <td>1097.939000</td>\n",
              "      <td>367.000000</td>\n",
              "      <td>7541.000000</td>\n",
              "      <td>5.000000</td>\n",
              "      <td>2.000431e+06</td>\n",
              "      <td>5.000000</td>\n",
              "      <td>5.000000</td>\n",
              "    </tr>\n",
              "  </tbody>\n",
              "</table>\n",
              "</div>\n",
              "    <div class=\"colab-df-buttons\">\n",
              "\n",
              "  <div class=\"colab-df-container\">\n",
              "    <button class=\"colab-df-convert\" onclick=\"convertToInteractive('df-632af970-d71a-4fb2-b040-91b413299327')\"\n",
              "            title=\"Convert this dataframe to an interactive table.\"\n",
              "            style=\"display:none;\">\n",
              "\n",
              "  <svg xmlns=\"http://www.w3.org/2000/svg\" height=\"24px\" viewBox=\"0 -960 960 960\">\n",
              "    <path d=\"M120-120v-720h720v720H120Zm60-500h600v-160H180v160Zm220 220h160v-160H400v160Zm0 220h160v-160H400v160ZM180-400h160v-160H180v160Zm440 0h160v-160H620v160ZM180-180h160v-160H180v160Zm440 0h160v-160H620v160Z\"/>\n",
              "  </svg>\n",
              "    </button>\n",
              "\n",
              "  <style>\n",
              "    .colab-df-container {\n",
              "      display:flex;\n",
              "      gap: 12px;\n",
              "    }\n",
              "\n",
              "    .colab-df-convert {\n",
              "      background-color: #E8F0FE;\n",
              "      border: none;\n",
              "      border-radius: 50%;\n",
              "      cursor: pointer;\n",
              "      display: none;\n",
              "      fill: #1967D2;\n",
              "      height: 32px;\n",
              "      padding: 0 0 0 0;\n",
              "      width: 32px;\n",
              "    }\n",
              "\n",
              "    .colab-df-convert:hover {\n",
              "      background-color: #E2EBFA;\n",
              "      box-shadow: 0px 1px 2px rgba(60, 64, 67, 0.3), 0px 1px 3px 1px rgba(60, 64, 67, 0.15);\n",
              "      fill: #174EA6;\n",
              "    }\n",
              "\n",
              "    .colab-df-buttons div {\n",
              "      margin-bottom: 4px;\n",
              "    }\n",
              "\n",
              "    [theme=dark] .colab-df-convert {\n",
              "      background-color: #3B4455;\n",
              "      fill: #D2E3FC;\n",
              "    }\n",
              "\n",
              "    [theme=dark] .colab-df-convert:hover {\n",
              "      background-color: #434B5C;\n",
              "      box-shadow: 0px 1px 3px 1px rgba(0, 0, 0, 0.15);\n",
              "      filter: drop-shadow(0px 1px 2px rgba(0, 0, 0, 0.3));\n",
              "      fill: #FFFFFF;\n",
              "    }\n",
              "  </style>\n",
              "\n",
              "    <script>\n",
              "      const buttonEl =\n",
              "        document.querySelector('#df-632af970-d71a-4fb2-b040-91b413299327 button.colab-df-convert');\n",
              "      buttonEl.style.display =\n",
              "        google.colab.kernel.accessAllowed ? 'block' : 'none';\n",
              "\n",
              "      async function convertToInteractive(key) {\n",
              "        const element = document.querySelector('#df-632af970-d71a-4fb2-b040-91b413299327');\n",
              "        const dataTable =\n",
              "          await google.colab.kernel.invokeFunction('convertToInteractive',\n",
              "                                                    [key], {});\n",
              "        if (!dataTable) return;\n",
              "\n",
              "        const docLinkHtml = 'Like what you see? Visit the ' +\n",
              "          '<a target=\"_blank\" href=https://colab.research.google.com/notebooks/data_table.ipynb>data table notebook</a>'\n",
              "          + ' to learn more about interactive tables.';\n",
              "        element.innerHTML = '';\n",
              "        dataTable['output_type'] = 'display_data';\n",
              "        await google.colab.output.renderOutput(dataTable, element);\n",
              "        const docLink = document.createElement('div');\n",
              "        docLink.innerHTML = docLinkHtml;\n",
              "        element.appendChild(docLink);\n",
              "      }\n",
              "    </script>\n",
              "  </div>\n",
              "\n",
              "\n",
              "    <div id=\"df-78be74f3-7489-4a04-b259-04138dd74638\">\n",
              "      <button class=\"colab-df-quickchart\" onclick=\"quickchart('df-78be74f3-7489-4a04-b259-04138dd74638')\"\n",
              "                title=\"Suggest charts\"\n",
              "                style=\"display:none;\">\n",
              "\n",
              "<svg xmlns=\"http://www.w3.org/2000/svg\" height=\"24px\"viewBox=\"0 0 24 24\"\n",
              "     width=\"24px\">\n",
              "    <g>\n",
              "        <path d=\"M19 3H5c-1.1 0-2 .9-2 2v14c0 1.1.9 2 2 2h14c1.1 0 2-.9 2-2V5c0-1.1-.9-2-2-2zM9 17H7v-7h2v7zm4 0h-2V7h2v10zm4 0h-2v-4h2v4z\"/>\n",
              "    </g>\n",
              "</svg>\n",
              "      </button>\n",
              "\n",
              "<style>\n",
              "  .colab-df-quickchart {\n",
              "      --bg-color: #E8F0FE;\n",
              "      --fill-color: #1967D2;\n",
              "      --hover-bg-color: #E2EBFA;\n",
              "      --hover-fill-color: #174EA6;\n",
              "      --disabled-fill-color: #AAA;\n",
              "      --disabled-bg-color: #DDD;\n",
              "  }\n",
              "\n",
              "  [theme=dark] .colab-df-quickchart {\n",
              "      --bg-color: #3B4455;\n",
              "      --fill-color: #D2E3FC;\n",
              "      --hover-bg-color: #434B5C;\n",
              "      --hover-fill-color: #FFFFFF;\n",
              "      --disabled-bg-color: #3B4455;\n",
              "      --disabled-fill-color: #666;\n",
              "  }\n",
              "\n",
              "  .colab-df-quickchart {\n",
              "    background-color: var(--bg-color);\n",
              "    border: none;\n",
              "    border-radius: 50%;\n",
              "    cursor: pointer;\n",
              "    display: none;\n",
              "    fill: var(--fill-color);\n",
              "    height: 32px;\n",
              "    padding: 0;\n",
              "    width: 32px;\n",
              "  }\n",
              "\n",
              "  .colab-df-quickchart:hover {\n",
              "    background-color: var(--hover-bg-color);\n",
              "    box-shadow: 0 1px 2px rgba(60, 64, 67, 0.3), 0 1px 3px 1px rgba(60, 64, 67, 0.15);\n",
              "    fill: var(--button-hover-fill-color);\n",
              "  }\n",
              "\n",
              "  .colab-df-quickchart-complete:disabled,\n",
              "  .colab-df-quickchart-complete:disabled:hover {\n",
              "    background-color: var(--disabled-bg-color);\n",
              "    fill: var(--disabled-fill-color);\n",
              "    box-shadow: none;\n",
              "  }\n",
              "\n",
              "  .colab-df-spinner {\n",
              "    border: 2px solid var(--fill-color);\n",
              "    border-color: transparent;\n",
              "    border-bottom-color: var(--fill-color);\n",
              "    animation:\n",
              "      spin 1s steps(1) infinite;\n",
              "  }\n",
              "\n",
              "  @keyframes spin {\n",
              "    0% {\n",
              "      border-color: transparent;\n",
              "      border-bottom-color: var(--fill-color);\n",
              "      border-left-color: var(--fill-color);\n",
              "    }\n",
              "    20% {\n",
              "      border-color: transparent;\n",
              "      border-left-color: var(--fill-color);\n",
              "      border-top-color: var(--fill-color);\n",
              "    }\n",
              "    30% {\n",
              "      border-color: transparent;\n",
              "      border-left-color: var(--fill-color);\n",
              "      border-top-color: var(--fill-color);\n",
              "      border-right-color: var(--fill-color);\n",
              "    }\n",
              "    40% {\n",
              "      border-color: transparent;\n",
              "      border-right-color: var(--fill-color);\n",
              "      border-top-color: var(--fill-color);\n",
              "    }\n",
              "    60% {\n",
              "      border-color: transparent;\n",
              "      border-right-color: var(--fill-color);\n",
              "    }\n",
              "    80% {\n",
              "      border-color: transparent;\n",
              "      border-right-color: var(--fill-color);\n",
              "      border-bottom-color: var(--fill-color);\n",
              "    }\n",
              "    90% {\n",
              "      border-color: transparent;\n",
              "      border-bottom-color: var(--fill-color);\n",
              "    }\n",
              "  }\n",
              "</style>\n",
              "\n",
              "      <script>\n",
              "        async function quickchart(key) {\n",
              "          const quickchartButtonEl =\n",
              "            document.querySelector('#' + key + ' button');\n",
              "          quickchartButtonEl.disabled = true;  // To prevent multiple clicks.\n",
              "          quickchartButtonEl.classList.add('colab-df-spinner');\n",
              "          try {\n",
              "            const charts = await google.colab.kernel.invokeFunction(\n",
              "                'suggestCharts', [key], {});\n",
              "          } catch (error) {\n",
              "            console.error('Error during call to suggestCharts:', error);\n",
              "          }\n",
              "          quickchartButtonEl.classList.remove('colab-df-spinner');\n",
              "          quickchartButtonEl.classList.add('colab-df-quickchart-complete');\n",
              "        }\n",
              "        (() => {\n",
              "          let quickchartButtonEl =\n",
              "            document.querySelector('#df-78be74f3-7489-4a04-b259-04138dd74638 button');\n",
              "          quickchartButtonEl.style.display =\n",
              "            google.colab.kernel.accessAllowed ? 'block' : 'none';\n",
              "        })();\n",
              "      </script>\n",
              "    </div>\n",
              "\n",
              "    </div>\n",
              "  </div>\n"
            ],
            "application/vnd.google.colaboratory.intrinsic+json": {
              "type": "dataframe",
              "summary": "{\n  \"name\": \"df\",\n  \"rows\": 8,\n  \"fields\": [\n    {\n      \"column\": \"list_price\",\n      \"properties\": {\n        \"dtype\": \"number\",\n        \"std\": 3125.515911423343,\n        \"min\": 2.2724,\n        \"max\": 8975.0,\n        \"num_unique_values\": 8,\n        \"samples\": [\n          62.908688646239554,\n          35.598,\n          8975.0\n        ],\n        \"semantic_type\": \"\",\n        \"description\": \"\"\n      }\n    },\n    {\n      \"column\": \"num_reviews\",\n      \"properties\": {\n        \"dtype\": \"number\",\n        \"std\": 2739.66064904008,\n        \"min\": 1.0,\n        \"max\": 7804.0,\n        \"num_unique_values\": 8,\n        \"samples\": [\n          16.624935930292157,\n          6.0,\n          7804.0\n        ],\n        \"semantic_type\": \"\",\n        \"description\": \"\"\n      }\n    },\n    {\n      \"column\": \"piece_count\",\n      \"properties\": {\n        \"dtype\": \"number\",\n        \"std\": 3687.1697425579973,\n        \"min\": 1.0,\n        \"max\": 8975.0,\n        \"num_unique_values\": 8,\n        \"samples\": [\n          487.4640668523677,\n          213.0,\n          8975.0\n        ],\n        \"semantic_type\": \"\",\n        \"description\": \"\"\n      }\n    },\n    {\n      \"column\": \"play_star_rating\",\n      \"properties\": {\n        \"dtype\": \"number\",\n        \"std\": 2717.9529477403717,\n        \"min\": 0.6536635171415952,\n        \"max\": 7691.0,\n        \"num_unique_values\": 8,\n        \"samples\": [\n          4.333974775711871,\n          4.5,\n          7691.0\n        ],\n        \"semantic_type\": \"\",\n        \"description\": \"\"\n      }\n    },\n    {\n      \"column\": \"prod_id\",\n      \"properties\": {\n        \"dtype\": \"number\",\n        \"std\": 690672.7141737182,\n        \"min\": 630.0,\n        \"max\": 2000431.0,\n        \"num_unique_values\": 8,\n        \"samples\": [\n          59746.49337047354,\n          42069.0,\n          8975.0\n        ],\n        \"semantic_type\": \"\",\n        \"description\": \"\"\n      }\n    },\n    {\n      \"column\": \"star_rating\",\n      \"properties\": {\n        \"dtype\": \"number\",\n        \"std\": 2757.826444972291,\n        \"min\": 0.5181433193049458,\n        \"max\": 7804.0,\n        \"num_unique_values\": 7,\n        \"samples\": [\n          7804.0,\n          4.513813429010764,\n          4.7\n        ],\n        \"semantic_type\": \"\",\n        \"description\": \"\"\n      }\n    },\n    {\n      \"column\": \"val_star_rating\",\n      \"properties\": {\n        \"dtype\": \"number\",\n        \"std\": 2713.023304068482,\n        \"min\": 0.6604261882813082,\n        \"max\": 7677.0,\n        \"num_unique_values\": 8,\n        \"samples\": [\n          4.228748208935782,\n          4.3,\n          7677.0\n        ],\n        \"semantic_type\": \"\",\n        \"description\": \"\"\n      }\n    }\n  ]\n}"
            }
          },
          "metadata": {},
          "execution_count": 5
        }
      ],
      "source": [
        "# Call the .describe() method\n",
        "df.describe()"
      ]
    },
    {
      "cell_type": "markdown",
      "metadata": {
        "id": "RL-xDmaoHpkE"
      },
      "source": [
        "#### Interpreting the Results\n",
        "\n",
        "The output contains descriptive statistics corresponding to the columns. Use these to answer the following questions:\n",
        "\n",
        "- How much is the standard deviation for `piece count`?\n",
        "- How many pieces are in the largest lego set?\n",
        "- How many in the smallest lego set? What is the median `val_star_rating`?\n",
        "\n",
        "________________________________________________________________________________________________________________________________"
      ]
    },
    {
      "cell_type": "markdown",
      "source": [
        "How much is the standard deviation for piece count? **817.571644**\n",
        "\n",
        "How many pieces are in the largest lego set? **7541.000000**\n",
        "\n",
        "How many in the smallest lego set? **1.000000**\n",
        "\n",
        "What is the median val_star_rating? **4.300000**\n"
      ],
      "metadata": {
        "id": "nAj61rW1Jmkd"
      }
    },
    {
      "cell_type": "markdown",
      "metadata": {
        "id": "kTRqhvW1HpkE"
      },
      "source": [
        "## Getting Summary Statistics\n",
        "\n",
        "Pandas also allows us to easily compute individual summary statistics using built-in methods.  Next, we'll get some practice using these methods.\n",
        "\n",
        "In the cell below, compute the median value of the `star_rating` column."
      ]
    },
    {
      "cell_type": "code",
      "execution_count": 6,
      "metadata": {
        "colab": {
          "base_uri": "https://localhost:8080/"
        },
        "id": "D656QvmcHpkE",
        "outputId": "a1e25e4b-fca7-458d-dfa2-e7067dc88d88"
      },
      "outputs": [
        {
          "output_type": "execute_result",
          "data": {
            "text/plain": [
              "4.7"
            ]
          },
          "metadata": {},
          "execution_count": 6
        }
      ],
      "source": [
        "# Calculate the median of the star_rating column\n",
        "df['star_rating'].median()"
      ]
    },
    {
      "cell_type": "markdown",
      "metadata": {
        "id": "iTdV0AW3HpkE"
      },
      "source": [
        "Next, get a count of the total number of unique values in `play_star_rating`."
      ]
    },
    {
      "cell_type": "code",
      "execution_count": 7,
      "metadata": {
        "colab": {
          "base_uri": "https://localhost:8080/"
        },
        "id": "ZCJQjCcDHpkF",
        "outputId": "643f00a7-b4b3-490d-9461-ab3d78a35c58"
      },
      "outputs": [
        {
          "output_type": "execute_result",
          "data": {
            "text/plain": [
              "30"
            ]
          },
          "metadata": {},
          "execution_count": 7
        }
      ],
      "source": [
        "# Print the number of unique values in play_star_rating\n",
        "df['play_star_rating'].nunique()"
      ]
    },
    {
      "cell_type": "markdown",
      "metadata": {
        "id": "LxSMFz6aHpkF"
      },
      "source": [
        "Now, compute the standard deviation of the `list_price` column."
      ]
    },
    {
      "cell_type": "code",
      "execution_count": 8,
      "metadata": {
        "colab": {
          "base_uri": "https://localhost:8080/"
        },
        "id": "xBE7NUnOHpkF",
        "outputId": "b705eadc-01c6-4c38-8dbc-9c5ab678894c"
      },
      "outputs": [
        {
          "output_type": "execute_result",
          "data": {
            "text/plain": [
              "89.28669540346516"
            ]
          },
          "metadata": {},
          "execution_count": 8
        }
      ],
      "source": [
        "# Calculate the standard deviation of the list_price column\n",
        "df['list_price'].std()"
      ]
    },
    {
      "cell_type": "markdown",
      "metadata": {
        "id": "AVUM-kDLHpkF"
      },
      "source": [
        "If we bought every single lego set in this dataset, how many pieces would we have?  \n",
        "\n",
        "> **Note**: If you truly want to answer this accurately, and are up for the challenge, remove duplicate lego-set entries before summing the pieces. That is, many of the lego sets are listed multiple times in the dataset above, depending on the country where it is being sold and other unique parameters. If you're stuck, just practice calculating the total number of pieces in the dataset for now."
      ]
    },
    {
      "cell_type": "code",
      "execution_count": 9,
      "metadata": {
        "colab": {
          "base_uri": "https://localhost:8080/"
        },
        "id": "aeGY9NdOHpkF",
        "outputId": "9143eb30-dcef-4b5e-cc4d-0186ca20aa61"
      },
      "outputs": [
        {
          "output_type": "stream",
          "name": "stdout",
          "text": [
            "Total number of LEGO pieces (unique sets only): 319,071\n"
          ]
        }
      ],
      "source": [
        "# Total number of pieces across all unique Lego sets\n",
        "df_unique = df.drop_duplicates(subset=['prod_id'])\n",
        "total_pieces = df_unique['piece_count'].sum()\n",
        "\n",
        "print(f\"Total number of LEGO pieces (unique sets only): {int(total_pieces):,}\")"
      ]
    },
    {
      "cell_type": "markdown",
      "metadata": {
        "id": "2n7Y6l1UHpkF"
      },
      "source": [
        "Now, let's try getting the value for the 90% quantile for all numerical columns.  Do this in the cell below."
      ]
    },
    {
      "cell_type": "code",
      "execution_count": 11,
      "metadata": {
        "colab": {
          "base_uri": "https://localhost:8080/",
          "height": 303
        },
        "id": "sPIExS66HpkF",
        "outputId": "88b9d7ff-638f-4f8c-cfcc-35ae92ce7a08"
      },
      "outputs": [
        {
          "output_type": "display_data",
          "data": {
            "text/plain": [
              "list_price            134.139\n",
              "num_reviews            38.000\n",
              "piece_count          1053.000\n",
              "play_star_rating        5.000\n",
              "prod_id             75531.000\n",
              "star_rating             5.000\n",
              "val_star_rating         5.000\n",
              "Name: 0.9, dtype: float64"
            ],
            "text/html": [
              "<div>\n",
              "<style scoped>\n",
              "    .dataframe tbody tr th:only-of-type {\n",
              "        vertical-align: middle;\n",
              "    }\n",
              "\n",
              "    .dataframe tbody tr th {\n",
              "        vertical-align: top;\n",
              "    }\n",
              "\n",
              "    .dataframe thead th {\n",
              "        text-align: right;\n",
              "    }\n",
              "</style>\n",
              "<table border=\"1\" class=\"dataframe\">\n",
              "  <thead>\n",
              "    <tr style=\"text-align: right;\">\n",
              "      <th></th>\n",
              "      <th>0.9</th>\n",
              "    </tr>\n",
              "  </thead>\n",
              "  <tbody>\n",
              "    <tr>\n",
              "      <th>list_price</th>\n",
              "      <td>134.139</td>\n",
              "    </tr>\n",
              "    <tr>\n",
              "      <th>num_reviews</th>\n",
              "      <td>38.000</td>\n",
              "    </tr>\n",
              "    <tr>\n",
              "      <th>piece_count</th>\n",
              "      <td>1053.000</td>\n",
              "    </tr>\n",
              "    <tr>\n",
              "      <th>play_star_rating</th>\n",
              "      <td>5.000</td>\n",
              "    </tr>\n",
              "    <tr>\n",
              "      <th>prod_id</th>\n",
              "      <td>75531.000</td>\n",
              "    </tr>\n",
              "    <tr>\n",
              "      <th>star_rating</th>\n",
              "      <td>5.000</td>\n",
              "    </tr>\n",
              "    <tr>\n",
              "      <th>val_star_rating</th>\n",
              "      <td>5.000</td>\n",
              "    </tr>\n",
              "  </tbody>\n",
              "</table>\n",
              "</div><br><label><b>dtype:</b> float64</label>"
            ]
          },
          "metadata": {}
        }
      ],
      "source": [
        "# Get the 90% quantile for all numerical columns\n",
        "numerical_df = df.select_dtypes(include=['float64', 'int64'])\n",
        "display(numerical_df.quantile(0.9))"
      ]
    },
    {
      "cell_type": "markdown",
      "metadata": {
        "id": "v1pZ_N1gHpkF"
      },
      "source": [
        "## Getting Summary Statistics on Categorical Data\n",
        "\n",
        "For obvious reasons, most of the methods we've used so far only work with numerical data -- there's no way to calculate the standard deviation of a column containing string values. However, there are some things that we can discover about columns containing categorical data.\n",
        "\n",
        "In the cell below, print the unique values contained within the `review_difficulty` column."
      ]
    },
    {
      "cell_type": "code",
      "execution_count": 12,
      "metadata": {
        "colab": {
          "base_uri": "https://localhost:8080/"
        },
        "id": "q0MXkG8WHpkG",
        "outputId": "d2140159-fb14-4ccc-bebb-a6e3f7a593f9"
      },
      "outputs": [
        {
          "output_type": "execute_result",
          "data": {
            "text/plain": [
              "array(['Average', 'Easy', 'Challenging', 'Very Easy', nan,\n",
              "       'Very Challenging'], dtype=object)"
            ]
          },
          "metadata": {},
          "execution_count": 12
        }
      ],
      "source": [
        "# Print the unique values in the review_difficulty column\n",
        "df['review_difficulty'].unique()"
      ]
    },
    {
      "cell_type": "markdown",
      "metadata": {
        "id": "pcKjDmYCHpkG"
      },
      "source": [
        "Now, let's get the `value_counts()` for this column, to see how common each is."
      ]
    },
    {
      "cell_type": "code",
      "execution_count": 13,
      "metadata": {
        "colab": {
          "base_uri": "https://localhost:8080/",
          "height": 272
        },
        "id": "nAT9IcxAHpkG",
        "outputId": "5329dd0a-f23d-4f16-a0c2-09e7bfe7bc15"
      },
      "outputs": [
        {
          "output_type": "execute_result",
          "data": {
            "text/plain": [
              "review_difficulty\n",
              "Easy                3116\n",
              "Average             2756\n",
              "Very Easy            849\n",
              "Challenging          761\n",
              "Very Challenging       6\n",
              "Name: count, dtype: int64"
            ],
            "text/html": [
              "<div>\n",
              "<style scoped>\n",
              "    .dataframe tbody tr th:only-of-type {\n",
              "        vertical-align: middle;\n",
              "    }\n",
              "\n",
              "    .dataframe tbody tr th {\n",
              "        vertical-align: top;\n",
              "    }\n",
              "\n",
              "    .dataframe thead th {\n",
              "        text-align: right;\n",
              "    }\n",
              "</style>\n",
              "<table border=\"1\" class=\"dataframe\">\n",
              "  <thead>\n",
              "    <tr style=\"text-align: right;\">\n",
              "      <th></th>\n",
              "      <th>count</th>\n",
              "    </tr>\n",
              "    <tr>\n",
              "      <th>review_difficulty</th>\n",
              "      <th></th>\n",
              "    </tr>\n",
              "  </thead>\n",
              "  <tbody>\n",
              "    <tr>\n",
              "      <th>Easy</th>\n",
              "      <td>3116</td>\n",
              "    </tr>\n",
              "    <tr>\n",
              "      <th>Average</th>\n",
              "      <td>2756</td>\n",
              "    </tr>\n",
              "    <tr>\n",
              "      <th>Very Easy</th>\n",
              "      <td>849</td>\n",
              "    </tr>\n",
              "    <tr>\n",
              "      <th>Challenging</th>\n",
              "      <td>761</td>\n",
              "    </tr>\n",
              "    <tr>\n",
              "      <th>Very Challenging</th>\n",
              "      <td>6</td>\n",
              "    </tr>\n",
              "  </tbody>\n",
              "</table>\n",
              "</div><br><label><b>dtype:</b> int64</label>"
            ]
          },
          "metadata": {},
          "execution_count": 13
        }
      ],
      "source": [
        "# Get the value_counts() of the review_difficulty column\n",
        "df['review_difficulty'].value_counts()"
      ]
    },
    {
      "cell_type": "markdown",
      "metadata": {
        "id": "HN--E6n1HpkG"
      },
      "source": [
        "As you can see, these provide us quick and easy ways to get information on columns containing categorical information.  \n",
        "\n",
        "\n",
        "## Using `.applymap()`\n",
        "\n",
        "When working with pandas DataFrames, we can quickly compute functions on the data contained by using the `.applymap()` method and passing in a lambda function.\n",
        "\n",
        "For instance, we can use `applymap()` to return a version of the DataFrame where every value has been converted to a string.\n",
        "\n",
        "In the cell below:\n",
        "\n",
        "* Call the DataFrame's `.applymap()` method and pass in `lambda x: str(x)`  \n",
        "* Call the new `string_df` object's `.info()` method to confirm that everything has been cast to a string"
      ]
    },
    {
      "cell_type": "code",
      "execution_count": 14,
      "metadata": {
        "colab": {
          "base_uri": "https://localhost:8080/"
        },
        "id": "knD9KXGAHpkG",
        "outputId": "b60e3dc8-3af0-478b-fe83-90346a1a6de9"
      },
      "outputs": [
        {
          "output_type": "stream",
          "name": "stdout",
          "text": [
            "<class 'pandas.core.frame.DataFrame'>\n",
            "RangeIndex: 8975 entries, 0 to 8974\n",
            "Data columns (total 14 columns):\n",
            " #   Column             Non-Null Count  Dtype \n",
            "---  ------             --------------  ----- \n",
            " 0   ages               8975 non-null   object\n",
            " 1   list_price         8975 non-null   object\n",
            " 2   num_reviews        8975 non-null   object\n",
            " 3   piece_count        8975 non-null   object\n",
            " 4   play_star_rating   8975 non-null   object\n",
            " 5   prod_desc          8975 non-null   object\n",
            " 6   prod_id            8975 non-null   object\n",
            " 7   prod_long_desc     8975 non-null   object\n",
            " 8   review_difficulty  8975 non-null   object\n",
            " 9   set_name           8975 non-null   object\n",
            " 10  star_rating        8975 non-null   object\n",
            " 11  theme_name         8975 non-null   object\n",
            " 12  val_star_rating    8975 non-null   object\n",
            " 13  country            8975 non-null   object\n",
            "dtypes: object(14)\n",
            "memory usage: 981.8+ KB\n"
          ]
        },
        {
          "output_type": "stream",
          "name": "stderr",
          "text": [
            "/tmp/ipython-input-14-1211924104.py:2: FutureWarning: DataFrame.applymap has been deprecated. Use DataFrame.map instead.\n",
            "  string_df = df.applymap(lambda x: str(x))\n"
          ]
        }
      ],
      "source": [
        "# Call the .applymap() method\n",
        "string_df = df.applymap(lambda x: str(x))\n",
        "\n",
        "# Call the .info() method\n",
        "string_df.info()"
      ]
    },
    {
      "cell_type": "markdown",
      "metadata": {
        "id": "sK_Cg-FoHpkG"
      },
      "source": [
        "Note that everything -- even the `NaN` values, have been cast to a string in the example above.\n",
        "\n",
        "Note that for Pandas Series objects (such as a single column in a DataFrame), we can do the same thing using the `.apply()` method.  \n",
        "\n",
        "This is just one example of how we can quickly compute custom functions on our DataFrame.\n",
        "\n",
        "## Summary\n",
        "\n",
        "In this lab, we learned how to:\n",
        "\n",
        "* Use the `df.describe()` and `df.info()` summary statistics methods\n",
        "* Use built-in Pandas methods for calculating summary statistics\n",
        "* Apply a function to every element in a DataFrame"
      ]
    }
  ],
  "metadata": {
    "kernelspec": {
      "display_name": "Python 3",
      "language": "python",
      "name": "python3"
    },
    "language_info": {
      "codemirror_mode": {
        "name": "ipython",
        "version": 3
      },
      "file_extension": ".py",
      "mimetype": "text/x-python",
      "name": "python",
      "nbconvert_exporter": "python",
      "pygments_lexer": "ipython3",
      "version": "3.7.3"
    },
    "colab": {
      "provenance": []
    }
  },
  "nbformat": 4,
  "nbformat_minor": 0
}